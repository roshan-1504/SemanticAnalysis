{
 "cells": [
  {
   "cell_type": "code",
   "execution_count": 1,
   "id": "485fde3c-a46a-466b-a0cb-0ed08fafd740",
   "metadata": {},
   "outputs": [],
   "source": [
    "import tensorflow as tf\n",
    "from tensorflow.keras.layers import Input, Embedding, Conv1D, GlobalMaxPooling1D, Dense, Dropout\n",
    "from tensorflow.keras.models import Model\n",
    "from tensorflow.keras.preprocessing.text import Tokenizer\n",
    "from tensorflow.keras.preprocessing.sequence import pad_sequences\n",
    "import numpy as np"
   ]
  },
  {
   "cell_type": "code",
   "execution_count": 2,
   "id": "8eef7da4-ca68-4715-8861-2616c13fdd93",
   "metadata": {},
   "outputs": [],
   "source": [
    "\n",
    "# Load GloVe Embeddings\n",
    "def load_glove_embeddings(embedding_dim, tokenizer, vocab_size):\n",
    "    embeddings_index = {}\n",
    "    glove_file_path = 'glove/glove.6B.100d.txt'\n",
    "    with open(glove_file_path, encoding='utf-8') as f:\n",
    "        for line in f:\n",
    "            values = line.split()\n",
    "            word = values[0]\n",
    "            coefs = np.asarray(values[1:], dtype='float32')\n",
    "            embeddings_index[word] = coefs\n",
    "            \n",
    "    embedding_matrix = np.zeros((vocab_size, embedding_dim))\n",
    "    for word, i in tokenizer.word_index.items():\n",
    "        if i < vocab_size:\n",
    "            embedding_vector = embeddings_index.get(word)\n",
    "            if embedding_vector is not None:\n",
    "                embedding_matrix[i] = embedding_vector\n",
    "                \n",
    "    return embedding_matrix"
   ]
  },
  {
   "cell_type": "code",
   "execution_count": 3,
   "id": "8da04215-7cc2-48de-baff-c17ead99ad9a",
   "metadata": {},
   "outputs": [],
   "source": [
    "# Define the CNN model with pre-trained embeddings\n",
    "def cnn_model(vocab_size, embedding_dim, max_length, num_filters, embedding_matrix):\n",
    "    inputs = Input(shape=(max_length,))\n",
    "    embedding = Embedding(vocab_size, embedding_dim, weights=[embedding_matrix], trainable=False)(inputs)\n",
    "    conv_blocks = []\n",
    "    for kernel_size in [3, 4, 5]:\n",
    "        conv = Conv1D(filters=num_filters, kernel_size=kernel_size, activation='relu')(embedding)\n",
    "        pool = GlobalMaxPooling1D()(conv)\n",
    "        conv_blocks.append(pool)\n",
    "        \n",
    "    concat = tf.keras.layers.concatenate(conv_blocks)\n",
    "    dropout = Dropout(0.5)(concat)\n",
    "    outputs = Dense(3, activation='softmax')(dropout)  # 3 classes for sad, happy, neutral\n",
    "    model = Model(inputs=inputs, outputs=outputs)\n",
    "    model.compile(optimizer='adam', loss='sparse_categorical_crossentropy', metrics=['accuracy'])\n",
    "    return model"
   ]
  },
  {
   "cell_type": "code",
   "execution_count": 30,
   "id": "c093e857-47d3-4098-bb47-62c67c7f023c",
   "metadata": {},
   "outputs": [],
   "source": [
    "# Prepare the tokenizer\n",
    "def prepare_tokenizer(texts, vocab_size, max_length):\n",
    "    tokenizer = Tokenizer(num_words=vocab_size, oov_token=\"<OOV>\")\n",
    "    tokenizer.fit_on_texts(texts)\n",
    "    return tokenizer\n",
    "\n",
    "# Predict sentiment of a statement\n",
    "def predict_sentiment(statement, tokenizer, model, max_length):\n",
    "    sequences = tokenizer.texts_to_sequences([statement])\n",
    "    padded = pad_sequences(sequences, maxlen=max_length, padding='post', truncating='post')\n",
    "    prediction = model.predict(padded)\n",
    "    sentiment_labels = ['Sad', 'Neutral', 'Happy']\n",
    "    return sentiment_labels[np.argmax(prediction)]"
   ]
  },
  {
   "cell_type": "code",
   "execution_count": 31,
   "id": "b84cbc07-f419-4283-b606-1ff5bc1aa699",
   "metadata": {},
   "outputs": [],
   "source": [
    "# Sample training data (normally you'd have more data)\n",
    "texts = [\n",
    "    \"I am very happy today!\", \"I feel so sad.\", \"This is a neutral statement.\",\n",
    "    \"I am so excited about this!\", \"I am disappointed.\", \"It is okay.\"\n",
    "]\n",
    "labels = [2, 0, 1, 2, 0, 1]  # Happy=2, Sad=0, Neutral=1\n",
    "\n",
    "# Tokenizer and model setup\n",
    "vocab_size = 10000\n",
    "embedding_dim = 100\n",
    "max_length = 100\n",
    "num_filters = 64\n",
    "tokenizer = prepare_tokenizer(texts, vocab_size, max_length)\n",
    "embedding_matrix = load_glove_embeddings(embedding_dim, tokenizer, vocab_size)\n",
    "model = cnn_model(vocab_size, embedding_dim, max_length, num_filters, embedding_matrix)"
   ]
  },
  {
   "cell_type": "code",
   "execution_count": 32,
   "id": "052ee73b-21af-42f7-a49d-b7d4ef5f6055",
   "metadata": {},
   "outputs": [
    {
     "name": "stdout",
     "output_type": "stream",
     "text": [
      "Epoch 1/5\n",
      "\u001b[1m1/1\u001b[0m \u001b[32m━━━━━━━━━━━━━━━━━━━━\u001b[0m\u001b[37m\u001b[0m \u001b[1m0s\u001b[0m 369ms/step - accuracy: 0.3333 - loss: 1.2783\n",
      "Epoch 2/5\n",
      "\u001b[1m1/1\u001b[0m \u001b[32m━━━━━━━━━━━━━━━━━━━━\u001b[0m\u001b[37m\u001b[0m \u001b[1m0s\u001b[0m 8ms/step - accuracy: 0.8333 - loss: 0.6405\n",
      "Epoch 3/5\n",
      "\u001b[1m1/1\u001b[0m \u001b[32m━━━━━━━━━━━━━━━━━━━━\u001b[0m\u001b[37m\u001b[0m \u001b[1m0s\u001b[0m 8ms/step - accuracy: 0.5000 - loss: 0.8889\n",
      "Epoch 4/5\n",
      "\u001b[1m1/1\u001b[0m \u001b[32m━━━━━━━━━━━━━━━━━━━━\u001b[0m\u001b[37m\u001b[0m \u001b[1m0s\u001b[0m 8ms/step - accuracy: 0.5000 - loss: 0.5695\n",
      "Epoch 5/5\n",
      "\u001b[1m1/1\u001b[0m \u001b[32m━━━━━━━━━━━━━━━━━━━━\u001b[0m\u001b[37m\u001b[0m \u001b[1m0s\u001b[0m 9ms/step - accuracy: 1.0000 - loss: 0.2776\n",
      "\u001b[1m1/1\u001b[0m \u001b[32m━━━━━━━━━━━━━━━━━━━━\u001b[0m\u001b[37m\u001b[0m \u001b[1m0s\u001b[0m 27ms/step\n",
      "Predicted Sentiment: Happy\n"
     ]
    }
   ],
   "source": [
    "# Convert texts to sequences and pad them\n",
    "sequences = tokenizer.texts_to_sequences(texts)\n",
    "padded_sequences = pad_sequences(sequences, maxlen=max_length, padding='post', truncating='post')\n",
    "\n",
    "# Train the model\n",
    "model.fit(padded_sequences, np.array(labels), epochs=5)\n",
    "\n",
    "# Predict sentiment of a new statement\n",
    "statement = \"i am very happy\"\n",
    "predicted_sentiment = predict_sentiment(statement, tokenizer, model, max_length)\n",
    "print(f\"Predicted Sentiment: {predicted_sentiment}\")\n"
   ]
  },
  {
   "cell_type": "code",
   "execution_count": null,
   "id": "5602ba6a-4898-431e-8a21-0a7259ce29e4",
   "metadata": {},
   "outputs": [],
   "source": []
  },
  {
   "cell_type": "code",
   "execution_count": null,
   "id": "45ada5dd-da14-4795-a43e-6558b62f36a7",
   "metadata": {},
   "outputs": [],
   "source": []
  },
  {
   "cell_type": "code",
   "execution_count": null,
   "id": "8d886c7a-b700-4e8f-b2b3-1b81125a82c2",
   "metadata": {},
   "outputs": [],
   "source": []
  }
 ],
 "metadata": {
  "kernelspec": {
   "display_name": "Python 3 (ipykernel)",
   "language": "python",
   "name": "python3"
  },
  "language_info": {
   "codemirror_mode": {
    "name": "ipython",
    "version": 3
   },
   "file_extension": ".py",
   "mimetype": "text/x-python",
   "name": "python",
   "nbconvert_exporter": "python",
   "pygments_lexer": "ipython3",
   "version": "3.12.5"
  }
 },
 "nbformat": 4,
 "nbformat_minor": 5
}
